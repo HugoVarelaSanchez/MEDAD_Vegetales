{
 "cells": [
  {
   "cell_type": "markdown",
   "id": "0fbb58d5-6ecd-4dcc-a945-cc891c96091c",
   "metadata": {},
   "source": [
    "--- \n",
    "    Autores: Carlos Francisco Orejuela Lluncor<carlos.f.olluncor@udc.es>; Hugo Varela Sanchéz\n",
    "    Asignatura: Modelización Estadística de Datos de Alta Dimensión\n",
    "    Curso: 2024/2025\n",
    "---\n",
    "\n",
    "# Análisis del suelo de sotobosques de pinos\n",
    "\n",
    "Descripción de las variables del conjunto de datos:\n",
    "* Contenido en ppm de diferentes elementos químicos en el suelo de una parcela: N, P, K, Ca, Mg, S, Al, Fe, Mn, Zn, Mo\n",
    "* Baresoil (Categorica): Cubierta de suelo desnudo (Low, High)\n",
    "* Humdepth: grosor de la capa de humus (cm).\n",
    "* pH (Categorica): pH del suelo (Low, Med, High)\n",
    "\n",
    "Objetivo principal de esta práctica:\n",
    "* Agrupar las parcelas con aquellas con características similares (Clustering)"
   ]
  },
  {
   "cell_type": "code",
   "execution_count": 35,
   "id": "b5bdea74-80ba-4d5b-a086-b336dcd5d6c2",
   "metadata": {},
   "outputs": [],
   "source": [
    "library(psych)\n",
    "library(repr)\n",
    "# Para ajustar el tamaño de los gráficos\n",
    "options(repr.plot.width=8, repr.plot.height=8)"
   ]
  },
  {
   "cell_type": "code",
   "execution_count": 26,
   "id": "c1d15932-996a-4668-a8a3-4cb2132dfbfc",
   "metadata": {},
   "outputs": [],
   "source": [
    "# Cargamos los datos\n",
    "load(\"vegetal.RData\")\n",
    "df_vegetal <- vegetal"
   ]
  },
  {
   "cell_type": "code",
   "execution_count": 27,
   "id": "11f778e5-92aa-4aaa-936b-5443cc7e2108",
   "metadata": {},
   "outputs": [
    {
     "data": {
      "text/html": [
       "<table class=\"dataframe\">\n",
       "<caption>A data.frame: 2 × 14</caption>\n",
       "<thead>\n",
       "\t<tr><th></th><th scope=col>N</th><th scope=col>P</th><th scope=col>K</th><th scope=col>Ca</th><th scope=col>Mg</th><th scope=col>S</th><th scope=col>Al</th><th scope=col>Fe</th><th scope=col>Mn</th><th scope=col>Zn</th><th scope=col>Mo</th><th scope=col>Baresoil</th><th scope=col>Humdepth</th><th scope=col>pH</th></tr>\n",
       "\t<tr><th></th><th scope=col>&lt;dbl&gt;</th><th scope=col>&lt;dbl&gt;</th><th scope=col>&lt;dbl&gt;</th><th scope=col>&lt;dbl&gt;</th><th scope=col>&lt;dbl&gt;</th><th scope=col>&lt;dbl&gt;</th><th scope=col>&lt;dbl&gt;</th><th scope=col>&lt;dbl&gt;</th><th scope=col>&lt;dbl&gt;</th><th scope=col>&lt;dbl&gt;</th><th scope=col>&lt;dbl&gt;</th><th scope=col>&lt;fct&gt;</th><th scope=col>&lt;dbl&gt;</th><th scope=col>&lt;fct&gt;</th></tr>\n",
       "</thead>\n",
       "<tbody>\n",
       "\t<tr><th scope=row>1</th><td>22.3</td><td>47.4</td><td>165.9</td><td>436.1</td><td>64.3</td><td>42.3</td><td>316.5</td><td>200.1</td><td>28.2</td><td>7.2</td><td>0.3</td><td>Low</td><td>1.5</td><td>Med </td></tr>\n",
       "\t<tr><th scope=row>2</th><td>31.1</td><td>32.3</td><td> 73.7</td><td>219.0</td><td>52.5</td><td>25.5</td><td>304.6</td><td>204.4</td><td>14.2</td><td>2.6</td><td>0.5</td><td>Low</td><td>1.8</td><td>High</td></tr>\n",
       "</tbody>\n",
       "</table>\n"
      ],
      "text/latex": [
       "A data.frame: 2 × 14\n",
       "\\begin{tabular}{r|llllllllllllll}\n",
       "  & N & P & K & Ca & Mg & S & Al & Fe & Mn & Zn & Mo & Baresoil & Humdepth & pH\\\\\n",
       "  & <dbl> & <dbl> & <dbl> & <dbl> & <dbl> & <dbl> & <dbl> & <dbl> & <dbl> & <dbl> & <dbl> & <fct> & <dbl> & <fct>\\\\\n",
       "\\hline\n",
       "\t1 & 22.3 & 47.4 & 165.9 & 436.1 & 64.3 & 42.3 & 316.5 & 200.1 & 28.2 & 7.2 & 0.3 & Low & 1.5 & Med \\\\\n",
       "\t2 & 31.1 & 32.3 &  73.7 & 219.0 & 52.5 & 25.5 & 304.6 & 204.4 & 14.2 & 2.6 & 0.5 & Low & 1.8 & High\\\\\n",
       "\\end{tabular}\n"
      ],
      "text/markdown": [
       "\n",
       "A data.frame: 2 × 14\n",
       "\n",
       "| <!--/--> | N &lt;dbl&gt; | P &lt;dbl&gt; | K &lt;dbl&gt; | Ca &lt;dbl&gt; | Mg &lt;dbl&gt; | S &lt;dbl&gt; | Al &lt;dbl&gt; | Fe &lt;dbl&gt; | Mn &lt;dbl&gt; | Zn &lt;dbl&gt; | Mo &lt;dbl&gt; | Baresoil &lt;fct&gt; | Humdepth &lt;dbl&gt; | pH &lt;fct&gt; |\n",
       "|---|---|---|---|---|---|---|---|---|---|---|---|---|---|---|\n",
       "| 1 | 22.3 | 47.4 | 165.9 | 436.1 | 64.3 | 42.3 | 316.5 | 200.1 | 28.2 | 7.2 | 0.3 | Low | 1.5 | Med  |\n",
       "| 2 | 31.1 | 32.3 |  73.7 | 219.0 | 52.5 | 25.5 | 304.6 | 204.4 | 14.2 | 2.6 | 0.5 | Low | 1.8 | High |\n",
       "\n"
      ],
      "text/plain": [
       "  N    P    K     Ca    Mg   S    Al    Fe    Mn   Zn  Mo  Baresoil Humdepth\n",
       "1 22.3 47.4 165.9 436.1 64.3 42.3 316.5 200.1 28.2 7.2 0.3 Low      1.5     \n",
       "2 31.1 32.3  73.7 219.0 52.5 25.5 304.6 204.4 14.2 2.6 0.5 Low      1.8     \n",
       "  pH  \n",
       "1 Med \n",
       "2 High"
      ]
     },
     "metadata": {},
     "output_type": "display_data"
    }
   ],
   "source": [
    "# Un vistazo a la estructura\n",
    "head(df_vegetal, 2)"
   ]
  },
  {
   "cell_type": "markdown",
   "id": "b6484c59-efc8-42a8-bed1-b19f7d5c898f",
   "metadata": {},
   "source": [
    "---\n",
    "### Análisis univariante y Multivariante\n",
    "\n",
    "En primer lugar, se calculan los principales estadísticos de tendencia central y de dispersión para cada una de las propiedades de una parcela en este conjunto de datos: "
   ]
  },
  {
   "cell_type": "code",
   "execution_count": 28,
   "id": "c790b2bd-5e6e-4c1c-8aec-a8a999965a15",
   "metadata": {
    "tags": []
   },
   "outputs": [
    {
     "data": {
      "text/html": [
       "<table class=\"dataframe\">\n",
       "<caption>A data.frame: 12 × 7</caption>\n",
       "<thead>\n",
       "\t<tr><th></th><th scope=col>Min.</th><th scope=col>1st Qu.</th><th scope=col>Median</th><th scope=col>Mean</th><th scope=col>3rd Qu.</th><th scope=col>Max.</th><th scope=col>Sd</th></tr>\n",
       "\t<tr><th></th><th scope=col>&lt;dbl&gt;</th><th scope=col>&lt;dbl&gt;</th><th scope=col>&lt;dbl&gt;</th><th scope=col>&lt;dbl&gt;</th><th scope=col>&lt;dbl&gt;</th><th scope=col>&lt;dbl&gt;</th><th scope=col>&lt;dbl&gt;</th></tr>\n",
       "</thead>\n",
       "<tbody>\n",
       "\t<tr><th scope=row>N</th><td> 13.40</td><td> 18.83</td><td> 22.05</td><td> 22.38</td><td> 26.30</td><td>  33.1</td><td>  5.53</td></tr>\n",
       "\t<tr><th scope=row>P</th><td> 22.70</td><td> 32.60</td><td> 41.50</td><td> 45.08</td><td> 57.05</td><td>  73.5</td><td> 14.95</td></tr>\n",
       "\t<tr><th scope=row>K</th><td> 43.60</td><td>127.15</td><td>166.60</td><td>162.93</td><td>205.75</td><td> 313.8</td><td> 64.84</td></tr>\n",
       "\t<tr><th scope=row>Ca</th><td>188.50</td><td>425.72</td><td>518.50</td><td>569.66</td><td>739.25</td><td>1169.7</td><td>243.58</td></tr>\n",
       "\t<tr><th scope=row>Mg</th><td> 25.70</td><td> 60.90</td><td> 75.05</td><td> 87.46</td><td>108.70</td><td> 209.1</td><td> 41.01</td></tr>\n",
       "\t<tr><th scope=row>S</th><td> 14.90</td><td> 29.42</td><td> 36.25</td><td> 37.19</td><td> 43.60</td><td>  60.2</td><td> 11.67</td></tr>\n",
       "\t<tr><th scope=row>Al</th><td> 12.10</td><td> 38.20</td><td>106.80</td><td>142.48</td><td>233.72</td><td> 435.1</td><td>122.32</td></tr>\n",
       "\t<tr><th scope=row>Fe</th><td>  2.30</td><td>  5.58</td><td> 27.80</td><td> 49.61</td><td> 85.15</td><td> 204.4</td><td> 60.45</td></tr>\n",
       "\t<tr><th scope=row>Mn</th><td> 10.10</td><td> 26.70</td><td> 36.55</td><td> 49.33</td><td> 59.00</td><td> 132.0</td><td> 33.91</td></tr>\n",
       "\t<tr><th scope=row>Zn</th><td>  2.60</td><td>  5.38</td><td>  8.10</td><td>  7.60</td><td>  9.10</td><td>  16.8</td><td>  2.98</td></tr>\n",
       "\t<tr><th scope=row>Mo</th><td>  0.05</td><td>  0.27</td><td>  0.30</td><td>  0.40</td><td>  0.50</td><td>   1.1</td><td>  0.24</td></tr>\n",
       "\t<tr><th scope=row>Humdepth</th><td>  1.00</td><td>  1.80</td><td>  2.20</td><td>  2.20</td><td>  2.62</td><td>   3.8</td><td>  0.66</td></tr>\n",
       "</tbody>\n",
       "</table>\n"
      ],
      "text/latex": [
       "A data.frame: 12 × 7\n",
       "\\begin{tabular}{r|lllllll}\n",
       "  & Min. & 1st Qu. & Median & Mean & 3rd Qu. & Max. & Sd\\\\\n",
       "  & <dbl> & <dbl> & <dbl> & <dbl> & <dbl> & <dbl> & <dbl>\\\\\n",
       "\\hline\n",
       "\tN &  13.40 &  18.83 &  22.05 &  22.38 &  26.30 &   33.1 &   5.53\\\\\n",
       "\tP &  22.70 &  32.60 &  41.50 &  45.08 &  57.05 &   73.5 &  14.95\\\\\n",
       "\tK &  43.60 & 127.15 & 166.60 & 162.93 & 205.75 &  313.8 &  64.84\\\\\n",
       "\tCa & 188.50 & 425.72 & 518.50 & 569.66 & 739.25 & 1169.7 & 243.58\\\\\n",
       "\tMg &  25.70 &  60.90 &  75.05 &  87.46 & 108.70 &  209.1 &  41.01\\\\\n",
       "\tS &  14.90 &  29.42 &  36.25 &  37.19 &  43.60 &   60.2 &  11.67\\\\\n",
       "\tAl &  12.10 &  38.20 & 106.80 & 142.48 & 233.72 &  435.1 & 122.32\\\\\n",
       "\tFe &   2.30 &   5.58 &  27.80 &  49.61 &  85.15 &  204.4 &  60.45\\\\\n",
       "\tMn &  10.10 &  26.70 &  36.55 &  49.33 &  59.00 &  132.0 &  33.91\\\\\n",
       "\tZn &   2.60 &   5.38 &   8.10 &   7.60 &   9.10 &   16.8 &   2.98\\\\\n",
       "\tMo &   0.05 &   0.27 &   0.30 &   0.40 &   0.50 &    1.1 &   0.24\\\\\n",
       "\tHumdepth &   1.00 &   1.80 &   2.20 &   2.20 &   2.62 &    3.8 &   0.66\\\\\n",
       "\\end{tabular}\n"
      ],
      "text/markdown": [
       "\n",
       "A data.frame: 12 × 7\n",
       "\n",
       "| <!--/--> | Min. &lt;dbl&gt; | 1st Qu. &lt;dbl&gt; | Median &lt;dbl&gt; | Mean &lt;dbl&gt; | 3rd Qu. &lt;dbl&gt; | Max. &lt;dbl&gt; | Sd &lt;dbl&gt; |\n",
       "|---|---|---|---|---|---|---|---|\n",
       "| N |  13.40 |  18.83 |  22.05 |  22.38 |  26.30 |   33.1 |   5.53 |\n",
       "| P |  22.70 |  32.60 |  41.50 |  45.08 |  57.05 |   73.5 |  14.95 |\n",
       "| K |  43.60 | 127.15 | 166.60 | 162.93 | 205.75 |  313.8 |  64.84 |\n",
       "| Ca | 188.50 | 425.72 | 518.50 | 569.66 | 739.25 | 1169.7 | 243.58 |\n",
       "| Mg |  25.70 |  60.90 |  75.05 |  87.46 | 108.70 |  209.1 |  41.01 |\n",
       "| S |  14.90 |  29.42 |  36.25 |  37.19 |  43.60 |   60.2 |  11.67 |\n",
       "| Al |  12.10 |  38.20 | 106.80 | 142.48 | 233.72 |  435.1 | 122.32 |\n",
       "| Fe |   2.30 |   5.58 |  27.80 |  49.61 |  85.15 |  204.4 |  60.45 |\n",
       "| Mn |  10.10 |  26.70 |  36.55 |  49.33 |  59.00 |  132.0 |  33.91 |\n",
       "| Zn |   2.60 |   5.38 |   8.10 |   7.60 |   9.10 |   16.8 |   2.98 |\n",
       "| Mo |   0.05 |   0.27 |   0.30 |   0.40 |   0.50 |    1.1 |   0.24 |\n",
       "| Humdepth |   1.00 |   1.80 |   2.20 |   2.20 |   2.62 |    3.8 |   0.66 |\n",
       "\n"
      ],
      "text/plain": [
       "         Min.   1st Qu. Median Mean   3rd Qu. Max.   Sd    \n",
       "N         13.40  18.83   22.05  22.38  26.30    33.1   5.53\n",
       "P         22.70  32.60   41.50  45.08  57.05    73.5  14.95\n",
       "K         43.60 127.15  166.60 162.93 205.75   313.8  64.84\n",
       "Ca       188.50 425.72  518.50 569.66 739.25  1169.7 243.58\n",
       "Mg        25.70  60.90   75.05  87.46 108.70   209.1  41.01\n",
       "S         14.90  29.42   36.25  37.19  43.60    60.2  11.67\n",
       "Al        12.10  38.20  106.80 142.48 233.72   435.1 122.32\n",
       "Fe         2.30   5.58   27.80  49.61  85.15   204.4  60.45\n",
       "Mn        10.10  26.70   36.55  49.33  59.00   132.0  33.91\n",
       "Zn         2.60   5.38    8.10   7.60   9.10    16.8   2.98\n",
       "Mo         0.05   0.27    0.30   0.40   0.50     1.1   0.24\n",
       "Humdepth   1.00   1.80    2.20   2.20   2.62     3.8   0.66"
      ]
     },
     "metadata": {},
     "output_type": "display_data"
    }
   ],
   "source": [
    "# Creacion de tabla de estadisticos para variables numericas:\n",
    "\n",
    "stats_summary <- function(df){\n",
    "    # Estadisticos a tener en cuenta\n",
    "    cols <- c('Min.', '1st Qu.', 'Median', 'Mean', '3rd Qu.', 'Max.', 'Sd')\n",
    "    stats_table <- c()\n",
    "    for (i in 1:ncol(df)){\n",
    "        # Agregar el estadistico de la desv. estandar\n",
    "        colstats <- c( as.vector(summary(df[, i])), sd(df[, i]) )\n",
    "        stats_table <- rbind(stats_table, colstats)\n",
    "    }\n",
    "    # Formatear tabla de estadisticos \n",
    "    stats_table <- data.frame(stats_table, row.names = colnames(df))\n",
    "    colnames(stats_table) <- cols\n",
    "    stats_table <- round(stats_table, 2)\n",
    "    return(stats_table)\n",
    "}\n",
    "\n",
    "df_numeric <- df_vegetal[, c(1:11, 13)]\n",
    "stats_table <- stats_summary(df_numeric)\n",
    "stats_table"
   ]
  },
  {
   "cell_type": "markdown",
   "id": "c88f7533-56df-4cfa-ae70-6fb077e62d9c",
   "metadata": {},
   "source": [
    "A través de la tabla de estadísticos de las propiedades cuantitativas sobre el suelo de los sotobosques de pinos en esta muestra se obtiene lo siguiente:\n",
    "1. En promedio, el elemento químico con mayor concentración en ppm sobre el suelo de las parcelas es el Calcio (Ca). Asimismo, en media se obtuvo que existen parcelas que pueden variar con respecto al centroide en 243.58 ppm, siendo esta el elemento químico con mayor variabilidad. Esto es un indicador que en la muestra tomada de sotobosques de pinos se tienen unas con una concentración de Calcio muy baja como muy alta."
   ]
  },
  {
   "cell_type": "code",
   "execution_count": 29,
   "id": "c5f241ac-d450-446e-9303-ebabd53e682f",
   "metadata": {},
   "outputs": [
    {
     "name": "stdout",
     "output_type": "stream",
     "text": [
      "[1] \"Mayor concentracion en ppm:\"\n",
      "    Ca \n",
      "569.66 \n"
     ]
    }
   ],
   "source": [
    "ppm_mean <- stats_table[, \"Mean\"]\n",
    "names(ppm_mean) <- colnames(df_numeric)\n",
    "# Buscar la posicion del elemento quimico con menor y mayor concentracion en ppm\n",
    "max_ppm <- which.max(ppm_mean)\n",
    "print(\"Mayor concentracion en ppm:\"); print(ppm_mean[max_ppm])"
   ]
  },
  {
   "cell_type": "code",
   "execution_count": 30,
   "id": "cc511105-530f-4edf-84fd-8de39b81e99b",
   "metadata": {},
   "outputs": [
    {
     "data": {
      "image/png": "[encoded data removed]",
      "text/plain": [
       "Plot with title “Distribución de la concentración de Calcio\n",
       "en el suelo de los sotobosques de pinos”"
      ]
     },
     "metadata": {
      "image/png": {
       "height": 480,
       "width": 480
      }
     },
     "output_type": "display_data"
    }
   ],
   "source": [
    "hist(df_numeric$Ca,\n",
    "     xlab = \"Concentracion (ppm)\",\n",
    "     main = \"Distribución de la concentración de Calcio\\nen el suelo de los sotobosques de pinos\")"
   ]
  },
  {
   "cell_type": "markdown",
   "id": "699ea6ea-87cf-46f4-aeec-7b39b41c15e2",
   "metadata": {},
   "source": [
    "2. El Molidebno (Mo) es el caso opuesto del Calcio, porque es el elemento químico con menor concentración en ppm en el suelo de los sotobosques de pinos, así como el de menor variabilidad."
   ]
  },
  {
   "cell_type": "code",
   "execution_count": 31,
   "id": "c25bd5cf-7f77-4ace-9cab-61e7b7ab2982",
   "metadata": {},
   "outputs": [
    {
     "name": "stdout",
     "output_type": "stream",
     "text": [
      "[1] \"Menor concentracion en ppm:\"\n",
      " Mo \n",
      "0.4 \n"
     ]
    },
    {
     "data": {
      "image/png": "[encoded data removed]",
      "text/plain": [
       "Plot with title “Distribución de la concentración de Molidebno\n",
       "en el suelo de los sotobosques de pinos”"
      ]
     },
     "metadata": {
      "image/png": {
       "height": 480,
       "width": 480
      }
     },
     "output_type": "display_data"
    }
   ],
   "source": [
    "min_ppm <- which.min(ppm_mean)\n",
    "print(\"Menor concentracion en ppm:\"); print(ppm_mean[min_ppm])\n",
    "# Distribucion\n",
    "boxplot(df_numeric[, \"Mo\"],\n",
    "        horizontal = T,\n",
    "        main = \"Distribución de la concentración de Molidebno\\nen el suelo de los sotobosques de pinos\")"
   ]
  },
  {
   "cell_type": "code",
   "execution_count": 32,
   "id": "5e3be349-5b71-4f67-93e9-163eedc64d3f",
   "metadata": {},
   "outputs": [
    {
     "name": "stdout",
     "output_type": "stream",
     "text": [
      "La media del Mo se incrementa en un 10 % (aprox.) debido a la presencia del outlier."
     ]
    }
   ],
   "source": [
    "# Se observa la presencia de un dato tipico en la muestra\n",
    "outlier <- df_numeric[which.max(df_numeric$Mo), \"Mo\"]\n",
    "sin_outlier <- df_numeric[df_numeric$Mo != outlier, \"Mo\"]\n",
    "# Calcular en cuanto se increment la media de la concentracion de Molidebno en el suelo de las parcelas\n",
    "pct <- round(stats_table[\"Mo\", \"Mean\"]/mean(sin_outlier) - 1, 2)\n",
    "cat(\"La media del Mo se incrementa en un\", pct*100, \"% (aprox.) debido a la presencia del outlier.\")"
   ]
  },
  {
   "cell_type": "markdown",
   "id": "5431cf93-52d7-4ea9-b56c-6b49ac840d11",
   "metadata": {},
   "source": [
    "3. El grosor de la capa de humus de esta muestra de sotobosques de pinos se encuentra entre 1 y 3 cm, aunque existe solo una observación cuyo valor para esta propiedad se encuentra más alejado de este rango."
   ]
  },
  {
   "cell_type": "code",
   "execution_count": 38,
   "id": "0b90a25a-7457-41e7-a164-860c4d7eb01d",
   "metadata": {
    "scrolled": true
   },
   "outputs": [
    {
     "data": {
      "image/png": "[encoded data removed]",
      "text/plain": [
       "Plot with title “Grosor de la capa de humus en\n",
       "los sotobosques de pinos”"
      ]
     },
     "metadata": {
      "image/png": {
       "height": 360,
       "width": 720
      }
     },
     "output_type": "display_data"
    }
   ],
   "source": [
    "# Analizar el grosor de la capa de humus (cm)\n",
    "options(repr.plot.width=12, repr.plot.height=6)\n",
    "par(mfrow=c(1, 2))\n",
    "hist(df_numeric$Humdepth, \n",
    "    xlab = \"Grosor (cm)\",\n",
    "    main = \"Grosor de la capa de humus en\\nlos sotobosques de pinos\")\n",
    "boxplot(df_numeric$Humdepth, horizontal = T)"
   ]
  },
  {
   "cell_type": "code",
   "execution_count": 41,
   "id": "66f01107-39f5-4c00-8ce0-9c05404fe7aa",
   "metadata": {},
   "outputs": [
    {
     "data": {
      "text/html": [
       "1"
      ],
      "text/latex": [
       "1"
      ],
      "text/markdown": [
       "1"
      ],
      "text/plain": [
       "[1] 1"
      ]
     },
     "metadata": {},
     "output_type": "display_data"
    }
   ],
   "source": [
    "sum(df_numeric$Humdepth > 3)"
   ]
  },
  {
   "cell_type": "markdown",
   "id": "8b4ab62f-a7fa-4aa4-aece-4d980e1ad92f",
   "metadata": {},
   "source": [
    "4. Como se puede observar a través de la distribución del contenido medido en ppm de los diferentes elementos químicos:\n",
    "   * El nitrógeno (N), Zinc (Zn) y Molidebno (Mo) son los que menos concentración tienen sobre el suelo de esta muestra de sotobosques de pinos.\n",
    "   * Como se mencionó anteriormente, el Calcio (Ca) es con diferencia el elemento químico que mayor presencia tiene en suelo de estas 24 parcelas, siendo este superior a la mediana tanto del Potasio (K) como del Aluminio (Al), que son los otros 2 elementos químicos con mayor contenido en ppm que se pueden encontrar.\n",
    "   * Por la asimetría de los boxplots del Calcio (Ca), Aluminio (Al) y Hierro (Fe), se observa que para esta muestra se han tomado tanto parcelas que tienen una gran concentración de estos elementos químicos sobre sus suelos, así como otras que cuentan con una cantidad más pequeña. Se tendría que analizar si existe alguna variable que cause que unas parcelas tengan un mayor contenido en ppm que otras sobre estos elemmentos.\n",
    "   * Se tiene registro de datos atípicos tanto para el Magnesio (Mg), Manganeso (Mn), Zinc (Zn) y Molidebno (Mo). Y a través del análisis de los valores que toman para los elementos químicos que mayor concentración tienen sobre el suelo de una parcela se obtuvo que:\n",
    "     * Aluminio: Las observaciones 22 y 23 son de aquellas parcelas con menor contenido tienen sobre este elemento; mientras que la 3 y 21 cuentan con una concentración mayor que el 50% de las datos, siendo esta primera (rowid 3) la parcela que mayor contenido de Aluminio en ppm tiene en la muestra.\n",
    "     * Potasio: A excepción del dato atípico con rowid 22, se tiene que estas parcelas cuentan con un contenido de Potasio mayor a 166.6 ppm (Q2). \n",
    "     * Calcio: Cuentan con un contenido de Calcio mayor o igual a 518.5 ppm (Q2) aproximadamente (rowid 3).\n",
    "     En un principio se esperaba que estos datos atípicos pertenezcan al grupo de parcelas con mayor concentración sobre estos elementos químicos. Sin embargo, este comportamiento no se pudo observar para el Aluminio.    "
   ]
  },
  {
   "cell_type": "code",
   "execution_count": 100,
   "id": "fe5af561-e0e2-4e9e-bd4b-4a37f9dd0f46",
   "metadata": {},
   "outputs": [
    {
     "data": {
      "image/png": "[encoded data removed]",
      "text/plain": [
       "Plot with title “Contenido de los elementos químicos\n",
       "en el suelo de los sotobosques de pinos”"
      ]
     },
     "metadata": {
      "image/png": {
       "height": 360,
       "width": 720
      }
     },
     "output_type": "display_data"
    }
   ],
   "source": [
    "boxplot(df_numeric[, 1:ncol(df_numeric) - 1],\n",
    "       main = \"Contenido de los elementos químicos\\nen el suelo de los sotobosques de pinos\",\n",
    "       xlab = \"Elementos quimicos\", ylab = \"Contenido en ppm\")\n",
    "abline(h=quantile(df_numeric$Ca, probs=c(0)), col = \"red\")"
   ]
  },
  {
   "cell_type": "code",
   "execution_count": 81,
   "id": "333e9440-a0b3-4a3d-aac4-e3dd1b60664f",
   "metadata": {},
   "outputs": [
    {
     "name": "stdout",
     "output_type": "stream",
     "text": [
      "Outliers para el Mg -> 21 \n",
      "Outliers para el Mn -> 22 23 \n",
      "Outliers para el Zn -> 21 \n",
      "Outliers para el Mo -> 3 \n"
     ]
    },
    {
     "data": {
      "text/plain": [
       "outliers\n",
       " 3 21 22 23 \n",
       " 1  2  1  1 "
      ]
     },
     "metadata": {},
     "output_type": "display_data"
    }
   ],
   "source": [
    "# Obtener los row ids de los datos atpicos\n",
    "elementos <- c(\"Mg\", \"Mn\", \"Zn\", \"Mo\")\n",
    "outliers <- c()\n",
    "for (i in 1:length(elementos)){\n",
    "    data <- df_numeric[, elementos[i]]\n",
    "    # Un dato se considera atipico si es > Q3 + 1.5*IQR | < Q1 - 1.5*IQR \n",
    "    cuartiles <- quantile(data, probs=c(0.25, 0.75))\n",
    "    q1 <- cuartiles[1]; q3 <- cuartiles[2]\n",
    "    IQR <- q3 - q1\n",
    "    rowids <- which(data > q3 + IQR*1.5)\n",
    "    outliers <- c(outliers, which(data > q3 + IQR*1.5))\n",
    "    cat(\"Outliers para el\", elementos[i], \"->\", rowids, \"\\n\") \n",
    "}\n",
    "table(outliers)"
   ]
  },
  {
   "cell_type": "code",
   "execution_count": 99,
   "id": "725050da-5c2c-4834-bef6-d609f72b95c2",
   "metadata": {},
   "outputs": [
    {
     "data": {
      "image/png": "[encoded data removed]",
      "text/plain": [
       "Plot with title “Contenido de Ca”"
      ]
     },
     "metadata": {
      "image/png": {
       "height": 360,
       "width": 720
      }
     },
     "output_type": "display_data"
    }
   ],
   "source": [
    "# Contenido en ppm de Aluminio, Potasio y Calcio de estos outliers\n",
    "elementos <- c(\"Al\", \"K\", \"Ca\")\n",
    "par(mfrow=c(1, 3))\n",
    "for (i in 1:length(elementos)){\n",
    "    data <- df_numeric[, elementos[i]]\n",
    "    title <- paste(\"Contenido de\", elementos[i])\n",
    "    boxplot(data, horizontal = T, main=title, xlab=\"ppm\")\n",
    "    abline( v=c(data[unique(outliers)]), col = c(\"red\", \"green\", \"blue\", \"cyan\"))\n",
    "}"
   ]
  },
  {
   "cell_type": "markdown",
   "id": "dc0714f8-5345-49dc-8522-5f8fc366e957",
   "metadata": {},
   "source": [
    "Leyenda:\n",
    "* red $\\rightarrow$ 21\n",
    "* green $\\rightarrow$ 22\n",
    "* blue $\\rightarrow$ 23\n",
    "* cyan $\\rightarrow$ 3"
   ]
  },
  {
   "cell_type": "markdown",
   "id": "6572bf78-ce05-475b-bd75-d5c1787a45fa",
   "metadata": {},
   "source": [
    "---\n",
    "\n",
    "## Nitrogeno (N)"
   ]
  },
  {
   "cell_type": "code",
   "execution_count": 34,
   "id": "3cc7ebee-335d-4900-babf-c51c804783dc",
   "metadata": {
    "tags": []
   },
   "outputs": [
    {
     "ename": "ERROR",
     "evalue": "Error: object 'mmvs' not found\n",
     "output_type": "error",
     "traceback": [
      "Error: object 'mmvs' not found\nTraceback:\n"
     ]
    }
   ],
   "source": [
    "mmvs[1, ]\n",
    "summary(df_numeric$N)\n",
    "boxplot(df_numeric$N, horizontal = T)"
   ]
  },
  {
   "cell_type": "markdown",
   "id": "38db07b4-eed0-4767-b768-9ff952cceeae",
   "metadata": {},
   "source": [
    "Podemos observar que los valores de la media y de la mediana apenas difieren, 22.05 y 22.38 . \n",
    "Esto es normal ya que tiene unadesviacion tipica no muy alta. No nos encontramos \n",
    "con ningun dato atipico y podemos ver que esta bastante biendistribuido.\n",
    "El valor mas pequeño que nos podemos encontrar es de 13.4 y el mas grande de 33.1 . \n",
    "Para terminar, vemos que no esta fuertemente correlacionado con ningun otro elemento.\n"
   ]
  },
  {
   "cell_type": "markdown",
   "id": "e2ea3e20-251b-4abf-a19a-93fa526f1c30",
   "metadata": {},
   "source": [
    "\n",
    "\n",
    "\n",
    "\n"
   ]
  },
  {
   "cell_type": "markdown",
   "id": "32feee34-df03-4d1d-a278-ebb9401eb136",
   "metadata": {},
   "source": [
    "## Fosforo (P)"
   ]
  },
  {
   "cell_type": "code",
   "execution_count": null,
   "id": "ea716e6f-8e4a-4118-8123-948602a5790e",
   "metadata": {
    "tags": []
   },
   "outputs": [],
   "source": [
    "mmvs[2, ]"
   ]
  },
  {
   "cell_type": "markdown",
   "id": "1751b088-7531-4f69-a522-45f28b1f959c",
   "metadata": {},
   "source": [
    "Podemos ver que la media y la mediana difieren un poco mas respecto al Nitrogeno, pero aun asi\n",
    "son muy similares. Nos encontramos con una desviacion tipica mas alta. Vamos a ver como se comporta:"
   ]
  },
  {
   "cell_type": "code",
   "execution_count": null,
   "id": "5cb4684e-dae0-4c5b-a4a9-a3973105e84a",
   "metadata": {
    "tags": []
   },
   "outputs": [],
   "source": [
    "boxplot(df_numeric$P, horizontal =T)\n",
    "summary(df_numeric$P)"
   ]
  },
  {
   "cell_type": "markdown",
   "id": "2f0f5be5-0945-4ae5-ad16-00809cc918b9",
   "metadata": {},
   "source": [
    "El boxplot muestra que la mediana (41.5 ppm) no está centrada. \n",
    "La mitad de los datos está entre (22.7, 41.5) ppm, y la otra entre (41.5, 73.5) ppm, \n",
    "con un rango más amplio en el segundo intervalo, existe una mayor dispersion hacia\n",
    "valores mas altos.\n",
    "No se observan atipicos"
   ]
  },
  {
   "cell_type": "code",
   "execution_count": null,
   "id": "d069ec5b-2596-4904-b6a1-c336d28f5424",
   "metadata": {
    "tags": []
   },
   "outputs": [],
   "source": [
    "hist(df_numeric$P)"
   ]
  },
  {
   "cell_type": "markdown",
   "id": "e7555333-40b6-40de-b3d8-ed2a450342dd",
   "metadata": {},
   "source": [
    "Nos confirma la asimetria, ya que vemos mas valores en los rangos mas bajos."
   ]
  },
  {
   "cell_type": "markdown",
   "id": "058d5f87-7892-4716-b8ff-0c8d33a07f4f",
   "metadata": {},
   "source": [
    "Ademas, vemos que el fosforo(P) tiene una signitiva correlacion con:\n",
    "    Potasio--(K)  = 0.75\n",
    "    Azufre---(s)  = 0.75\n",
    "    Calcio---(Ca) = 0.74\n",
    "    Zinc-----(Zn) = 0.70\n",
    "    Magnesio-(Mg) = 0.6"
   ]
  },
  {
   "cell_type": "markdown",
   "id": "48847fc1-17be-4f4a-b18c-5a89031faeeb",
   "metadata": {},
   "source": [
    "\n",
    "\n"
   ]
  },
  {
   "cell_type": "markdown",
   "id": "d91d5c25-5a52-484b-ad3b-5f54f479b037",
   "metadata": {},
   "source": [
    "## Potasio (K)"
   ]
  },
  {
   "cell_type": "code",
   "execution_count": null,
   "id": "6a590e6f-0ebf-43a9-b27d-1b3947024a8d",
   "metadata": {
    "tags": []
   },
   "outputs": [],
   "source": [
    "mmvs[3, ]"
   ]
  },
  {
   "cell_type": "markdown",
   "id": "41ac6646-9621-44b2-98fb-413287bbf764",
   "metadata": {},
   "source": [
    "Podemos ver que la media y la mediana son muy similares. Presenta una \n",
    "desviacion tipica relativamente alta, vamos a ver como se comporta:"
   ]
  },
  {
   "cell_type": "code",
   "execution_count": null,
   "id": "12ed9db7-0567-4881-97f2-b229b7f548f1",
   "metadata": {
    "tags": []
   },
   "outputs": [],
   "source": [
    "summary(df_numeric$K)\n",
    "boxplot(df_numeric$K, horizontal=T)"
   ]
  },
  {
   "cell_type": "markdown",
   "id": "53e0377c-31ce-4309-8d1a-62c03b742af9",
   "metadata": {},
   "source": [
    "Vemos que la mediana esta centrada entre el 1 y 3 cuartil.\n",
    "Parece una distribucion equilibrada, sin atipicos."
   ]
  },
  {
   "cell_type": "code",
   "execution_count": null,
   "id": "7c0e7f44-4a59-415a-b35a-8357416be901",
   "metadata": {
    "tags": []
   },
   "outputs": [],
   "source": [
    "hist(df_numeric$K)"
   ]
  },
  {
   "cell_type": "markdown",
   "id": "1535c5b2-c7be-4af5-b9f0-0e0085591da4",
   "metadata": {},
   "source": [
    "Observamos que todos los valores se encuentran en el centro, siendo muy pocos valores superiores a 250, donde\n",
    "cae bastante brusco respecto a la otra cola, que tambien hay muchos menos valores, pero cae mas lento antes de 100."
   ]
  },
  {
   "cell_type": "code",
   "execution_count": null,
   "id": "e42de1c2-a6f9-4ad8-8bf8-1ce76ae50f9c",
   "metadata": {},
   "outputs": [],
   "source": [
    "Para terminar, vemos que el potasio esta altamente correlacionado con el:\n",
    "    Azufre---(S)  = 0.84\n",
    "    Fosforo--(P)  = 0.75\n",
    "    Calcio---(Ca) = 0.66\n",
    "    Magnesio-(Mg) = 0.63\n",
    "    Zink-----(Zn) = 0.6"
   ]
  },
  {
   "cell_type": "markdown",
   "id": "85d11030-6c1a-4ad0-81fd-23dc29911806",
   "metadata": {},
   "source": [
    "\n",
    "\n",
    "\n"
   ]
  },
  {
   "cell_type": "markdown",
   "id": "b022e9db-e8fe-4d2a-bcff-ccc69909f76e",
   "metadata": {
    "tags": []
   },
   "source": [
    "## Calcio (Ca)"
   ]
  },
  {
   "cell_type": "code",
   "execution_count": null,
   "id": "209a079e-1d75-4716-b97b-53357ab52fe6",
   "metadata": {
    "tags": []
   },
   "outputs": [],
   "source": [
    "mmvs[4, ]"
   ]
  },
  {
   "cell_type": "markdown",
   "id": "0c944ff9-08a4-4bf1-911a-84f035506510",
   "metadata": {},
   "source": [
    "El calcio presenta una desviacion tipica particularmente grande, aunque la media\n",
    "tambien sea muy grande comparandola con la del resto de variables (es la mayor de todas)\n",
    "La media y la mediana difieren bastante, pero es mejor observar primero el boxplot"
   ]
  },
  {
   "cell_type": "code",
   "execution_count": null,
   "id": "e83f34ce-f348-4ab2-9117-940d95ea5c1c",
   "metadata": {
    "tags": []
   },
   "outputs": [],
   "source": [
    "summary(df_numeric$Ca)\n",
    "boxplot(df_numeric$Ca, horizontal=T)"
   ]
  },
  {
   "cell_type": "markdown",
   "id": "4a888ff1-7e2a-48c9-a84f-9fe7f023cc1f",
   "metadata": {},
   "source": [
    "Gracias al boxplot, podemos observar que la mediana esta significativamente apartada del centro \n",
    "de los cuartiles 1 y 3. Vemos tambien que la mayoria de los datos se acumulan en un rango pequeño, entre 188.5 y 518.5, mientras que la otra mitad entre 518.5 y 1169.7, teniendo este un rango muy superior."
   ]
  },
  {
   "cell_type": "markdown",
   "id": "0ce051d4-b340-46c9-b956-45d7456357bc",
   "metadata": {},
   "source": [
    "Ya que el boxplot no esta centrado, vamos a dibujar su histograma para ver mas de cerca su distribucion:"
   ]
  },
  {
   "cell_type": "code",
   "execution_count": null,
   "id": "5e8ef0f9-e8ab-4dde-aaea-b3ab0abbb3fb",
   "metadata": {
    "tags": []
   },
   "outputs": [],
   "source": [
    "hist(df_numeric$Ca)"
   ]
  },
  {
   "cell_type": "markdown",
   "id": "2f2efc46-27c4-4b98-920b-cf9aad321fe5",
   "metadata": {},
   "source": [
    "Podemos ver que la mayoria de valores se encuentran entre 200 y 800, y el \n",
    "resto se concentran en dos colas. Una cola inferior mas pronunciada, y una cola superior\n",
    "un poco menos pronunciada que la inferior."
   ]
  },
  {
   "cell_type": "code",
   "execution_count": null,
   "id": "a0cabf1f-293d-43e8-957f-d7c1098cace1",
   "metadata": {},
   "outputs": [],
   "source": [
    "Para terminar, vemos que el Calcio esta altamente correlacionado con el:\n",
    "    Magnesio-(Mg) = 0.80\n",
    "    Fosfoto--(P)  = 0.74\n",
    "    Zinc-----(Zn) = 0.68\n",
    "    Potasio--(k)  = 0.66"
   ]
  },
  {
   "cell_type": "markdown",
   "id": "2db5e646-a116-4c34-9171-271d9881cd60",
   "metadata": {},
   "source": [
    "\n",
    "\n",
    "\n"
   ]
  },
  {
   "cell_type": "markdown",
   "id": "8f558838-55d9-4659-a457-fad704738b44",
   "metadata": {},
   "source": [
    "## Magnesio (Mg)"
   ]
  },
  {
   "cell_type": "code",
   "execution_count": null,
   "id": "1890d542-0d6f-4162-aa21-93a127910d33",
   "metadata": {
    "tags": []
   },
   "outputs": [],
   "source": [
    "mmvs[5, ]"
   ]
  },
  {
   "cell_type": "markdown",
   "id": "b7581915-dc16-4bdc-9261-18065d78d605",
   "metadata": {},
   "source": [
    "Aqui si se aprecian diferencias entre la media y la mediana, siendo la media 12.41ppm mayor a la mediana. Ademas, presenta una desviacion tipica relativamente grande respecto al valores de la mediana."
   ]
  },
  {
   "cell_type": "code",
   "execution_count": null,
   "id": "ed509155-eb80-41e4-8f33-03625da7d1fc",
   "metadata": {
    "tags": []
   },
   "outputs": [],
   "source": [
    "summary(df_numeric$Mg)\n",
    "boxplot(df_numeric$Mg, horizontal=T)"
   ]
  },
  {
   "cell_type": "markdown",
   "id": "89f829ee-4024-4dab-a8f7-c44ee078e9b2",
   "metadata": {},
   "source": [
    "Al igual que antes, la mediana se encuentra descentrada respecto al 1 y 3 cuartil, teniendo mayor rango los datos entre (75.05, 160(aproximadamente)  )ppm que los datos entre\n",
    "(25.7, 75.05)ppm.\n",
    "\n",
    "A diferencia con los otros elementos hasta el momento, nos encontrasmos con un dtao atipico: 209.10, el valor mas alto es un dato atipico en este caso.\n"
   ]
  },
  {
   "cell_type": "code",
   "execution_count": null,
   "id": "a4820870-5ca9-4c66-a706-94677701a835",
   "metadata": {
    "tags": []
   },
   "outputs": [],
   "source": [
    "hist(df_numeric$Mg, breaks = 10)"
   ]
  },
  {
   "cell_type": "markdown",
   "id": "b8f58783-27ac-495e-bf4d-1d95f0464138",
   "metadata": {},
   "source": [
    "Vemos que ma mayoria de datos entan entre 60 y 80. Sin embargo podemos ver un intervalo entre 40 y 140 que ocupa la mayor parte de los datos. Podemos observar algunos valores entre 25 y 40, y tambien unos pocos enter 140 y 160. \n",
    "Se observa con este grafico muy bien el valor atipico en 209.\n",
    "Podemos decir entonves, que tiene dos colas muy pronunciadas respecto al centro."
   ]
  },
  {
   "cell_type": "code",
   "execution_count": null,
   "id": "2af86b2f-50d5-46e5-a583-6315d78261a5",
   "metadata": {
    "tags": []
   },
   "outputs": [],
   "source": [
    "Para terminar, vemos que el Magnesio esta altamente correlacionado con el:\n",
    "    Calcio--(Ca) = 0.8\n",
    "    Zinc----(Zn) = 0.71\n",
    "    Azufre--(S)  = 0.65\n",
    "    Potasio-(K)  = 0.63\n",
    "    Fosforo-(P)  = 0.6"
   ]
  },
  {
   "cell_type": "markdown",
   "id": "9bf176c3-8c87-4c9b-8c03-6cf08b9fc930",
   "metadata": {},
   "source": [
    "\n",
    "\n",
    "\n"
   ]
  },
  {
   "cell_type": "markdown",
   "id": "ffb92c42-9029-40d1-b13d-9d8486fb8a13",
   "metadata": {},
   "source": [
    "## Azufre (S)"
   ]
  },
  {
   "cell_type": "code",
   "execution_count": null,
   "id": "bec13ad3-5a1b-4998-a87b-57ff220f9894",
   "metadata": {
    "tags": []
   },
   "outputs": [],
   "source": [
    "mmvs[6, ]"
   ]
  },
  {
   "cell_type": "markdown",
   "id": "2041c1b4-b334-4147-97d6-2a1e1f9111cd",
   "metadata": {},
   "source": [
    "Del azufre podemos ver que la medi ay la mediana son muy similares, no difieren mucho.\n",
    "Tambien, la desviacion tipica no es muy grande, vamos a ver como se distribuye:"
   ]
  },
  {
   "cell_type": "code",
   "execution_count": null,
   "id": "dffb3af6-590c-4f53-a099-e70dc9e80844",
   "metadata": {
    "tags": []
   },
   "outputs": [],
   "source": [
    "summary(df_numeric$S)\n",
    "boxplot(df_numeric$S, horizontal=T)"
   ]
  },
  {
   "cell_type": "markdown",
   "id": "605c7f00-8626-4c30-9020-61750dfa8756",
   "metadata": {},
   "source": [
    "Podemos obsevar que la mediana esta bien centrada respecto al los cuartiles 1 y 3, y ambos estan bastante bien centrados. Aun asi, el rango entre el valor minimo y la mediana (14.90, 36.25)ppm es un poco menor entre el la mediana y el mayor maximo (36.25, 60.2)ppm"
   ]
  },
  {
   "cell_type": "code",
   "execution_count": null,
   "id": "6ffc4d98-c582-40cb-8f5e-df00905c7c0e",
   "metadata": {
    "tags": []
   },
   "outputs": [],
   "source": [
    "hist(df_numeric$S)"
   ]
  },
  {
   "cell_type": "markdown",
   "id": "e4e10629-4e58-4e27-a046-eb134809c7b2",
   "metadata": {},
   "source": [
    "Vemos que la mayoria de los datos se concentran en el rango (20, 50)ppm, siendo donde mas en (30, 40)ppm."
   ]
  },
  {
   "cell_type": "markdown",
   "id": "92435598-97da-4b4d-b363-1289e2f58196",
   "metadata": {},
   "source": [
    "Para terminar, vemos que el Azufre esta altamente correlacionado con el:\n",
    "\n",
    "    Potasio--(K)  = 0.84\n",
    "    Fosforo--(P)  = 0.75\n",
    "    Zinc-----(zn) = 0.71\n",
    "    Magnesio-(Mg) = 0.65"
   ]
  },
  {
   "cell_type": "markdown",
   "id": "a00720fc-09ff-4ae5-b3cb-c3fd0aa192f1",
   "metadata": {},
   "source": []
  },
  {
   "cell_type": "markdown",
   "id": "507b25e7-c97d-4df8-87aa-7056e5a64093",
   "metadata": {},
   "source": [
    "## Aluminio (Al)"
   ]
  },
  {
   "cell_type": "code",
   "execution_count": null,
   "id": "0721aad7-f4c9-4400-821c-9c36a902bc4d",
   "metadata": {
    "tags": []
   },
   "outputs": [],
   "source": [
    "mmvs[7, ]"
   ]
  },
  {
   "cell_type": "markdown",
   "id": "d981fab8-077c-4606-82ce-3c0a6e1dcf0e",
   "metadata": {},
   "source": [
    "Podemos ver que la media y la medana estan bastante separados, pero lo que realmente llama la atencio en la gran desviacion tipica que presenta."
   ]
  },
  {
   "cell_type": "code",
   "execution_count": null,
   "id": "e7a52e99-9a82-4847-a96f-632862ea6dcb",
   "metadata": {
    "tags": []
   },
   "outputs": [],
   "source": [
    "summary(df_numeric$Al)\n",
    "boxplot(df_numeric$Al, horizontal=T)"
   ]
  },
  {
   "cell_type": "markdown",
   "id": "0da29b13-4422-4272-a04e-9f1f700e8617",
   "metadata": {},
   "source": [
    "Podemos ver que la mediana esta muy a la izquierda, cerca del primer cuartil. Podemos ver que la mitad de los datos se encuentran entre 12.1 y 106.8, lo cual es un rango muy pequeño, viendo que el resto se distribuyen entre 106.8 y 435.1. LLama la atencio que aunque tengamos un valor muy alto comparandolo con la media y la mediana, y ademas teniendo la desviacion tipica que tiene, el dato es completamente nomral, no presenta datos atipicos.\n",
    "Ya podemos anticipar que la mayoria de los datos van a estar en los primeros valores, y despues va a haber una cola hacia la derecha."
   ]
  },
  {
   "cell_type": "code",
   "execution_count": null,
   "id": "71f034b6-2d61-464e-9279-460b2f075027",
   "metadata": {
    "tags": []
   },
   "outputs": [],
   "source": [
    "hist(df_numeric$Al)"
   ]
  },
  {
   "cell_type": "markdown",
   "id": "59a109e7-7c6d-47db-84d9-7ecad79ee159",
   "metadata": {},
   "source": [
    "Se confirma la hipotesis, tenemos la mayoria de valores en un rango pequeño entre 12.1 y 106.8, y el resto se distribuyen como una cola que decrece lentamente, hata tener su ultimo valor en 435.1 ."
   ]
  },
  {
   "cell_type": "code",
   "execution_count": null,
   "id": "071aca70-b5e8-47be-b585-d1237372d8bf",
   "metadata": {},
   "outputs": [],
   "source": [
    "Para terminar, vemos que el Aluminio esta altamente correlacionado con el:\n",
    "    Hierro (Fe) = 0.82\n",
    "\n",
    "Con el umbral de 0.6, el aluminio no presenta ninguna otra correlacion importante, aun asi, \n",
    "con un umbral de 0.4 podriamos ver :\n",
    "    \n",
    "    Manganeso (Mn) = -0.47 Corralado negativamente\n",
    "    Molibdeno (Mo) = 0.51\n",
    "\n"
   ]
  },
  {
   "cell_type": "markdown",
   "id": "f981de11-d3b8-4929-a165-52a9de0075a8",
   "metadata": {},
   "source": [
    "## Hierro (Fe)"
   ]
  },
  {
   "cell_type": "code",
   "execution_count": null,
   "id": "80c929b1-1779-41f7-a163-f023246a55b8",
   "metadata": {
    "tags": []
   },
   "outputs": [],
   "source": [
    "mmvs[8, ]"
   ]
  },
  {
   "cell_type": "markdown",
   "id": "ef0455af-2cf5-468e-9822-e026cb1938d7",
   "metadata": {},
   "source": [
    "El hierro presenta unas caranteristicas interesantes:\n",
    "Tiene una mediana muy pequeña, y una media con un valor mucho mas alto que la mediana, pero presenta una desviacion tipica de casi el doble que la mediana. "
   ]
  },
  {
   "cell_type": "code",
   "execution_count": null,
   "id": "3fa51fc9-e444-46eb-8354-5fb353c2a432",
   "metadata": {
    "tags": []
   },
   "outputs": [],
   "source": [
    "summary(df_numeric$Fe)\n",
    "boxplot(df_numeric$Fe, horizontal=T)"
   ]
  },
  {
   "cell_type": "markdown",
   "id": "c1bfdd26-3f15-4fc2-99b2-7f8d96c5177a",
   "metadata": {},
   "source": [
    "Vemos que el 50% de los datos esta concentrado en un rango muy pequeño, entre 2.3 y 27.8 ppm, sin embargo, toma valores hasta de hasta 204.4ppm. Por tanto, la primera mitad de los datos estan contenidos en un rango muy pequeño, mientras la segunda mitad estan en un rango mucho mas amplio.\n",
    "Vamos a ver su distribucion"
   ]
  },
  {
   "cell_type": "code",
   "execution_count": null,
   "id": "2d999a77-7488-427a-9519-497424461a0a",
   "metadata": {
    "tags": []
   },
   "outputs": [],
   "source": [
    "hist(df_numeric$Fe)"
   ]
  },
  {
   "cell_type": "markdown",
   "id": "bddf429f-c2a1-492d-99a7-df10c0c2b35e",
   "metadata": {},
   "source": [
    "Vemos como La gran mayoria de valores esta en esa franja (2.3-50)."
   ]
  },
  {
   "cell_type": "code",
   "execution_count": null,
   "id": "d122c21d-a3e2-488c-9fb5-ab595cb1e0b8",
   "metadata": {},
   "outputs": [],
   "source": [
    "Para terminar, vemos que el Hierro esta altamente correlacionado con el:\n",
    "    Aluminio (K)  = 0.82\n",
    "    \n",
    "Con el umbral de 0.6, el Hierro no presenta ninguna otra correlacion importante, aun asi, \n",
    "con un umbral de 0.4 podriamos ver:\n",
    "    \n",
    "    Manganeso (Mn) = -0.44 correlacionado negativamente"
   ]
  },
  {
   "cell_type": "code",
   "execution_count": null,
   "id": "57b70b9d-f2b3-4094-9a2f-00d528f206cd",
   "metadata": {},
   "outputs": [],
   "source": []
  },
  {
   "cell_type": "markdown",
   "id": "a4793000-4311-491a-a80c-71206efef11d",
   "metadata": {},
   "source": [
    "## Manganeso (Mn)"
   ]
  },
  {
   "cell_type": "code",
   "execution_count": null,
   "id": "0024f121-c7cd-49a1-afc2-335eb7a66356",
   "metadata": {
    "tags": []
   },
   "outputs": [],
   "source": [
    "mmvs[9, ]"
   ]
  },
  {
   "cell_type": "markdown",
   "id": "551e93f3-9c2d-4083-8070-892c972e2881",
   "metadata": {},
   "source": [
    "Podemos ver que la media y la mediana se presentan separadas, pero sobre todo cabe destacar lo alta que es su desviacion tipica, respecto al valor de la mediana "
   ]
  },
  {
   "cell_type": "code",
   "execution_count": null,
   "id": "106d86f2-6e57-4707-b82f-acb562b24f1f",
   "metadata": {
    "tags": []
   },
   "outputs": [],
   "source": [
    "summary(df_numeric$Mn)\n",
    "boxplot(df_numeric$Mn, horizontal=T)"
   ]
  },
  {
   "cell_type": "markdown",
   "id": "3de522ac-2e63-487b-8acf-0b9721b827a3",
   "metadata": {},
   "source": [
    "La media y la mediana se ven separadas, y sobretodo vemos que el 50% de los datos se encuentran en un rango pequeño, entre 10.10 y 36.55 . \n",
    "El resto de datos se encuentran en un rango mas grande, entre 36.55 y 107 aproximadamente.\n",
    "Podemos observar dos valores atipicos, entre ellos el maximo de los datos observados."
   ]
  },
  {
   "cell_type": "code",
   "execution_count": null,
   "id": "abb0227b-c0bb-4ee6-a116-25d95c470097",
   "metadata": {
    "tags": []
   },
   "outputs": [],
   "source": [
    "hist(df_numeric$Mn)"
   ]
  },
  {
   "cell_type": "markdown",
   "id": "010fa853-d969-4d29-8c33-68441f519eff",
   "metadata": {
    "tags": []
   },
   "source": [
    "Confirmamos que todos la gran mayoria de valores se encuentran entre 20 y 40. De ahi se generan dos colas, una relativamente suave cara los valores altos, y una muy brusca para valores mas pequeños."
   ]
  },
  {
   "cell_type": "code",
   "execution_count": null,
   "id": "bcf1e5a0-78b8-48c1-a68d-424d7547a9ec",
   "metadata": {},
   "outputs": [],
   "source": [
    "Con un umbral de 0.6 no vemos ninguna correlacion con relevancia, pero si bajamos el umbral \n",
    "a 0.5, podemos ver que existen algunas correlaciones:\n",
    "\n",
    "    Fosforo (P) = 0.54\n",
    "    Potasio (K) = 0.54\n",
    "    "
   ]
  },
  {
   "cell_type": "code",
   "execution_count": null,
   "id": "69d8a589-7304-46aa-9c96-51ff21b284b6",
   "metadata": {},
   "outputs": [],
   "source": []
  },
  {
   "cell_type": "markdown",
   "id": "25bfcae3-582e-4f07-a056-e7e8fa57511b",
   "metadata": {},
   "source": [
    "## Zink (Zn)"
   ]
  },
  {
   "cell_type": "code",
   "execution_count": null,
   "id": "22655970-f02a-47c5-8f9f-0704e433bf1c",
   "metadata": {
    "tags": []
   },
   "outputs": [],
   "source": [
    "mmvs[10, ]"
   ]
  },
  {
   "cell_type": "markdown",
   "id": "19f26a11-6388-4e92-863e-df6b5707a018",
   "metadata": {},
   "source": [
    "Vemos que por lo general el zinc toma valores pequeños.\n",
    "Podemos supones que la media y la mediana estan relativamente cerca, y que no tiene una desviacion tipica grande."
   ]
  },
  {
   "cell_type": "code",
   "execution_count": null,
   "id": "ef633818-1788-45a3-bc87-3951f26c8e92",
   "metadata": {
    "tags": []
   },
   "outputs": [],
   "source": [
    "summary(df_numeric$Zn)\n",
    "boxplot(df_numeric$Zn, horizontal=T)"
   ]
  },
  {
   "cell_type": "markdown",
   "id": "c9cb6005-e852-4fec-8323-776ea7f69145",
   "metadata": {},
   "source": [
    "A distincion de todos los elemtos anteriores, en este caso, el 50% de los datos se encuentran concentrados en un rango pequeño con valores mayores a la mediana, y el resto en un rango mucho mayor desde 2.6 a 8.1.\n",
    "La media esta bastante alejada de la mediana, cosa contraria a lo que supusimos."
   ]
  },
  {
   "cell_type": "code",
   "execution_count": null,
   "id": "a0e95845-1afa-4a85-a6eb-5b4ba5c75fc6",
   "metadata": {
    "tags": []
   },
   "outputs": [],
   "source": [
    "hist(df_numeric$Zn)"
   ]
  },
  {
   "cell_type": "markdown",
   "id": "b1d1cfce-b7a0-433e-9959-f0cc40dbfeab",
   "metadata": {},
   "source": [
    "Vemos como, por la cola izquierda crece lentamente ya que los datos estan mas repartidos, pero una vez pasa el 8.1, hay una gran cantidad de datos y despues solo hay unos pocos sueltos."
   ]
  },
  {
   "cell_type": "code",
   "execution_count": null,
   "id": "36ccff6e-8aa4-4489-ab16-eed0f2ab1ae4",
   "metadata": {},
   "outputs": [],
   "source": [
    "Para terminar, vemos que el Zinc esta altamente correlacionado con el:\n",
    "    Magnesio-(Mg) = 0.71\n",
    "    Azufre (S) = 0.71\n",
    "    Fosforo--(P)  = 0.7\n",
    "    Calcio-----(Ca) = 0.68\n",
    "    Potasio--(K)  = 0.6"
   ]
  },
  {
   "cell_type": "code",
   "execution_count": null,
   "id": "800eb320-1ac4-4826-b2ce-2c3522089a01",
   "metadata": {},
   "outputs": [],
   "source": []
  },
  {
   "cell_type": "markdown",
   "id": "2e281b0f-0154-48fc-a136-de5bbd61743d",
   "metadata": {},
   "source": [
    "## Molibdeno (Mo)"
   ]
  },
  {
   "cell_type": "code",
   "execution_count": null,
   "id": "ef60d365-1814-4c28-a77c-10dd5fd3fdba",
   "metadata": {},
   "outputs": [],
   "source": []
  },
  {
   "cell_type": "code",
   "execution_count": null,
   "id": "ca0ff09b-21f3-4b1b-b8e6-99858537a1e7",
   "metadata": {
    "tags": []
   },
   "outputs": [],
   "source": [
    "mmvs[11, ]"
   ]
  },
  {
   "cell_type": "raw",
   "id": "13739c6e-7fc5-408c-8a44-11acef0ac03f",
   "metadata": {},
   "source": [
    "Presenta valores muy pequeños. Para la escala que es la media y la mediana estan significativamente separados, y tiene una desviacion tipica bastante grande"
   ]
  },
  {
   "cell_type": "code",
   "execution_count": null,
   "id": "5e5da5af-c020-42d9-b4f5-f18471fdeaea",
   "metadata": {
    "tags": []
   },
   "outputs": [],
   "source": [
    "summary(df_numeric$Mo)\n",
    "boxplot(df_numeric$Mo, horizontal=T)"
   ]
  },
  {
   "cell_type": "markdown",
   "id": "d35af01b-db23-49a3-9326-1adbaddbf331",
   "metadata": {},
   "source": [
    "Observamos como la mediana se encuentra alejada de la media, y como se ve que el 50% de los datos se encuentran en un rango pequeño, entre 0.05 y 0.3, pero que el otro 50% en un rango mas grande, 0.3 a 0.8 aproximadamente.\n",
    "Podemos observar un dato atipico, en 1.1 que es un valor muy por encima de la media."
   ]
  },
  {
   "cell_type": "markdown",
   "id": "b498969e-8ea3-4f95-83c9-bf5e1d8d69d5",
   "metadata": {},
   "source": [
    "El molibdeno no se encuentra correlacionado con ningun otro dato."
   ]
  },
  {
   "cell_type": "code",
   "execution_count": null,
   "id": "8f5346c0-b2a2-4b81-9760-802912de1447",
   "metadata": {},
   "outputs": [],
   "source": []
  },
  {
   "cell_type": "code",
   "execution_count": null,
   "id": "28ec6746-81bb-484e-a778-20163c5527f2",
   "metadata": {},
   "outputs": [],
   "source": [
    "# pairs.panels(df_numeric, smooth = T, density = T, digits = 2, ellipses=T, method='pearson', pch=20, lm=T, cor=T)\n",
    "# Podemos observar que hay variables muy correladas como puede ser el Calcio y el magnesio\n",
    "# o por ejemplo el aluminio con el Hierro.\n"
   ]
  }
 ],
 "metadata": {
  "kernelspec": {
   "display_name": "R",
   "language": "R",
   "name": "ir"
  },
  "language_info": {
   "codemirror_mode": "r",
   "file_extension": ".r",
   "mimetype": "text/x-r-source",
   "name": "R",
   "pygments_lexer": "r",
   "version": "4.3.3"
  }
 },
 "nbformat": 4,
 "nbformat_minor": 5
}
