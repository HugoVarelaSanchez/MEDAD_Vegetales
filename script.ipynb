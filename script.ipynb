{
 "cells": [
  {
   "cell_type": "markdown",
   "id": "0fbb58d5-6ecd-4dcc-a945-cc891c96091c",
   "metadata": {},
   "source": [
    "# Análisis de vegetales\n",
    "\n",
    "Descripciṕn de las variables del conjunto de datos:\n",
    "* Contenido en ppm de diferentes elementos químicos en el suelo de una parcela: N, P, K, Ca, Mg, S, Al, Fe, Mn, Zn, Mo\n",
    "* Baresoil (Categorica): Cubierta de suelo desnudo (Low, High)\n",
    "* Humdepth: grosor de la capa de humus (cm).\n",
    "* pH (Categorica): pH del suelo (Low, Med, High)\n",
    "\n",
    "Objetivo principal:\n",
    "* Agrupar las parcelas con aquellas con características similares (Clustering)"
   ]
  },
  {
   "cell_type": "code",
   "execution_count": 5,
   "id": "c1d15932-996a-4668-a8a3-4cb2132dfbfc",
   "metadata": {},
   "outputs": [],
   "source": [
    "# Cargamos los datos\n",
    "load(\"vegetal.RData\")\n",
    "df_vegetal <- vegetal"
   ]
  },
  {
   "cell_type": "code",
   "execution_count": 7,
   "id": "11f778e5-92aa-4aaa-936b-5443cc7e2108",
   "metadata": {},
   "outputs": [
    {
     "data": {
      "text/html": [
       "<table class=\"dataframe\">\n",
       "<caption>A data.frame: 2 × 14</caption>\n",
       "<thead>\n",
       "\t<tr><th></th><th scope=col>N</th><th scope=col>P</th><th scope=col>K</th><th scope=col>Ca</th><th scope=col>Mg</th><th scope=col>S</th><th scope=col>Al</th><th scope=col>Fe</th><th scope=col>Mn</th><th scope=col>Zn</th><th scope=col>Mo</th><th scope=col>Baresoil</th><th scope=col>Humdepth</th><th scope=col>pH</th></tr>\n",
       "\t<tr><th></th><th scope=col>&lt;dbl&gt;</th><th scope=col>&lt;dbl&gt;</th><th scope=col>&lt;dbl&gt;</th><th scope=col>&lt;dbl&gt;</th><th scope=col>&lt;dbl&gt;</th><th scope=col>&lt;dbl&gt;</th><th scope=col>&lt;dbl&gt;</th><th scope=col>&lt;dbl&gt;</th><th scope=col>&lt;dbl&gt;</th><th scope=col>&lt;dbl&gt;</th><th scope=col>&lt;dbl&gt;</th><th scope=col>&lt;fct&gt;</th><th scope=col>&lt;dbl&gt;</th><th scope=col>&lt;fct&gt;</th></tr>\n",
       "</thead>\n",
       "<tbody>\n",
       "\t<tr><th scope=row>1</th><td>22.3</td><td>47.4</td><td>165.9</td><td>436.1</td><td>64.3</td><td>42.3</td><td>316.5</td><td>200.1</td><td>28.2</td><td>7.2</td><td>0.3</td><td>Low</td><td>1.5</td><td>Med </td></tr>\n",
       "\t<tr><th scope=row>2</th><td>31.1</td><td>32.3</td><td> 73.7</td><td>219.0</td><td>52.5</td><td>25.5</td><td>304.6</td><td>204.4</td><td>14.2</td><td>2.6</td><td>0.5</td><td>Low</td><td>1.8</td><td>High</td></tr>\n",
       "</tbody>\n",
       "</table>\n"
      ],
      "text/latex": [
       "A data.frame: 2 × 14\n",
       "\\begin{tabular}{r|llllllllllllll}\n",
       "  & N & P & K & Ca & Mg & S & Al & Fe & Mn & Zn & Mo & Baresoil & Humdepth & pH\\\\\n",
       "  & <dbl> & <dbl> & <dbl> & <dbl> & <dbl> & <dbl> & <dbl> & <dbl> & <dbl> & <dbl> & <dbl> & <fct> & <dbl> & <fct>\\\\\n",
       "\\hline\n",
       "\t1 & 22.3 & 47.4 & 165.9 & 436.1 & 64.3 & 42.3 & 316.5 & 200.1 & 28.2 & 7.2 & 0.3 & Low & 1.5 & Med \\\\\n",
       "\t2 & 31.1 & 32.3 &  73.7 & 219.0 & 52.5 & 25.5 & 304.6 & 204.4 & 14.2 & 2.6 & 0.5 & Low & 1.8 & High\\\\\n",
       "\\end{tabular}\n"
      ],
      "text/markdown": [
       "\n",
       "A data.frame: 2 × 14\n",
       "\n",
       "| <!--/--> | N &lt;dbl&gt; | P &lt;dbl&gt; | K &lt;dbl&gt; | Ca &lt;dbl&gt; | Mg &lt;dbl&gt; | S &lt;dbl&gt; | Al &lt;dbl&gt; | Fe &lt;dbl&gt; | Mn &lt;dbl&gt; | Zn &lt;dbl&gt; | Mo &lt;dbl&gt; | Baresoil &lt;fct&gt; | Humdepth &lt;dbl&gt; | pH &lt;fct&gt; |\n",
       "|---|---|---|---|---|---|---|---|---|---|---|---|---|---|---|\n",
       "| 1 | 22.3 | 47.4 | 165.9 | 436.1 | 64.3 | 42.3 | 316.5 | 200.1 | 28.2 | 7.2 | 0.3 | Low | 1.5 | Med  |\n",
       "| 2 | 31.1 | 32.3 |  73.7 | 219.0 | 52.5 | 25.5 | 304.6 | 204.4 | 14.2 | 2.6 | 0.5 | Low | 1.8 | High |\n",
       "\n"
      ],
      "text/plain": [
       "  N    P    K     Ca    Mg   S    Al    Fe    Mn   Zn  Mo  Baresoil Humdepth\n",
       "1 22.3 47.4 165.9 436.1 64.3 42.3 316.5 200.1 28.2 7.2 0.3 Low      1.5     \n",
       "2 31.1 32.3  73.7 219.0 52.5 25.5 304.6 204.4 14.2 2.6 0.5 Low      1.8     \n",
       "  pH  \n",
       "1 Med \n",
       "2 High"
      ]
     },
     "metadata": {},
     "output_type": "display_data"
    }
   ],
   "source": [
    "# Un vistazo a la estructura\n",
    "head(df_vegetal, 2)"
   ]
  },
  {
   "cell_type": "markdown",
   "id": "b6484c59-efc8-42a8-bed1-b19f7d5c898f",
   "metadata": {},
   "source": [
    "---\n",
    "### Análisis univariante y Multivariante"
   ]
  },
  {
   "cell_type": "code",
   "execution_count": null,
   "id": "c6970642-2079-4045-9dbc-587c06d0ed8a",
   "metadata": {},
   "outputs": [],
   "source": []
  }
 ],
 "metadata": {
  "kernelspec": {
   "display_name": "R",
   "language": "R",
   "name": "ir"
  },
  "language_info": {
   "codemirror_mode": "r",
   "file_extension": ".r",
   "mimetype": "text/x-r-source",
   "name": "R",
   "pygments_lexer": "r",
   "version": "4.3.3"
  }
 },
 "nbformat": 4,
 "nbformat_minor": 5
}
